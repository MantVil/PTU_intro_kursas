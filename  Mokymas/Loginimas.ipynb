{
 "cells": [
  {
   "cell_type": "code",
   "execution_count": 1,
   "metadata": {},
   "outputs": [],
   "source": [
    "\n",
    "\n",
    "\n",
    "def dalyba(a, b):\n",
    "    try:\n",
    "        res = a / b\n",
    "    except Exception as e:\n",
    "        print(e, e.__class__)\n",
    "    else:\n",
    "        print(f\"dalyba: {a} / {b} = {res}\")\n",
    "        return res"
   ]
  },
  {
   "cell_type": "code",
   "execution_count": 2,
   "metadata": {},
   "outputs": [
    {
     "name": "stdout",
     "output_type": "stream",
     "text": [
      "dalyba: 7 / 3 = 2.3333333333333335\n"
     ]
    },
    {
     "data": {
      "text/plain": [
       "2.3333333333333335"
      ]
     },
     "execution_count": 2,
     "metadata": {},
     "output_type": "execute_result"
    }
   ],
   "source": [
    "dalyba(7, 3)"
   ]
  },
  {
   "cell_type": "code",
   "execution_count": 9,
   "metadata": {},
   "outputs": [
    {
     "ename": "TypeError",
     "evalue": "unsupported operand type(s) for +: 'ZeroDivisionError' and 'str'",
     "output_type": "error",
     "traceback": [
      "\u001b[0;31m---------------------------------------------------------------------------\u001b[0m",
      "\u001b[0;31mZeroDivisionError\u001b[0m                         Traceback (most recent call last)",
      "\u001b[1;32m/Users/apple/Python_kursas/antras_kursas/ Mokymas/Loginimas.ipynb Cell 3\u001b[0m in \u001b[0;36mdalyba\u001b[0;34m(a, b)\u001b[0m\n\u001b[1;32m      <a href='vscode-notebook-cell:/Users/apple/Python_kursas/antras_kursas/%20Mokymas/Loginimas.ipynb#W3sZmlsZQ%3D%3D?line=4'>5</a>\u001b[0m \u001b[39mtry\u001b[39;00m:\n\u001b[0;32m----> <a href='vscode-notebook-cell:/Users/apple/Python_kursas/antras_kursas/%20Mokymas/Loginimas.ipynb#W3sZmlsZQ%3D%3D?line=5'>6</a>\u001b[0m     res \u001b[39m=\u001b[39m a \u001b[39m/\u001b[39;49m b\n\u001b[1;32m      <a href='vscode-notebook-cell:/Users/apple/Python_kursas/antras_kursas/%20Mokymas/Loginimas.ipynb#W3sZmlsZQ%3D%3D?line=6'>7</a>\u001b[0m \u001b[39mexcept\u001b[39;00m \u001b[39mException\u001b[39;00m \u001b[39mas\u001b[39;00m e:\n",
      "\u001b[0;31mZeroDivisionError\u001b[0m: division by zero",
      "\nDuring handling of the above exception, another exception occurred:\n",
      "\u001b[0;31mTypeError\u001b[0m                                 Traceback (most recent call last)",
      "\u001b[1;32m/Users/apple/Python_kursas/antras_kursas/ Mokymas/Loginimas.ipynb Cell 3\u001b[0m in \u001b[0;36m<cell line: 1>\u001b[0;34m()\u001b[0m\n\u001b[0;32m----> <a href='vscode-notebook-cell:/Users/apple/Python_kursas/antras_kursas/%20Mokymas/Loginimas.ipynb#W3sZmlsZQ%3D%3D?line=0'>1</a>\u001b[0m dalyba(\u001b[39m7\u001b[39;49m, \u001b[39m0\u001b[39;49m)\n",
      "\u001b[1;32m/Users/apple/Python_kursas/antras_kursas/ Mokymas/Loginimas.ipynb Cell 3\u001b[0m in \u001b[0;36mdalyba\u001b[0;34m(a, b)\u001b[0m\n\u001b[1;32m      <a href='vscode-notebook-cell:/Users/apple/Python_kursas/antras_kursas/%20Mokymas/Loginimas.ipynb#W3sZmlsZQ%3D%3D?line=5'>6</a>\u001b[0m     res \u001b[39m=\u001b[39m a \u001b[39m/\u001b[39m b\n\u001b[1;32m      <a href='vscode-notebook-cell:/Users/apple/Python_kursas/antras_kursas/%20Mokymas/Loginimas.ipynb#W3sZmlsZQ%3D%3D?line=6'>7</a>\u001b[0m \u001b[39mexcept\u001b[39;00m \u001b[39mException\u001b[39;00m \u001b[39mas\u001b[39;00m e:\n\u001b[0;32m----> <a href='vscode-notebook-cell:/Users/apple/Python_kursas/antras_kursas/%20Mokymas/Loginimas.ipynb#W3sZmlsZQ%3D%3D?line=7'>8</a>\u001b[0m     logging\u001b[39m.\u001b[39merror(e\u001b[39m+\u001b[39;49m\u001b[39mstr\u001b[39;49m(e\u001b[39m.\u001b[39;49m\u001b[39m__class__\u001b[39;49m))\n\u001b[1;32m      <a href='vscode-notebook-cell:/Users/apple/Python_kursas/antras_kursas/%20Mokymas/Loginimas.ipynb#W3sZmlsZQ%3D%3D?line=8'>9</a>\u001b[0m \u001b[39melse\u001b[39;00m:\n\u001b[1;32m     <a href='vscode-notebook-cell:/Users/apple/Python_kursas/antras_kursas/%20Mokymas/Loginimas.ipynb#W3sZmlsZQ%3D%3D?line=9'>10</a>\u001b[0m     logging\u001b[39m.\u001b[39minfo(\u001b[39mf\u001b[39m\u001b[39m\"\u001b[39m\u001b[39mdalyba: \u001b[39m\u001b[39m{\u001b[39;00ma\u001b[39m}\u001b[39;00m\u001b[39m / \u001b[39m\u001b[39m{\u001b[39;00mb\u001b[39m}\u001b[39;00m\u001b[39m = \u001b[39m\u001b[39m{\u001b[39;00mres\u001b[39m}\u001b[39;00m\u001b[39m\"\u001b[39m)\n",
      "\u001b[0;31mTypeError\u001b[0m: unsupported operand type(s) for +: 'ZeroDivisionError' and 'str'"
     ]
    }
   ],
   "source": [
    "dalyba(7, 0)"
   ]
  },
  {
   "cell_type": "code",
   "execution_count": 8,
   "metadata": {},
   "outputs": [],
   "source": [
    "import logging\n",
    "\n",
    "\n",
    "def dalyba(a, b):\n",
    "    try:\n",
    "        res = a / b\n",
    "    except Exception as e:\n",
    "        logging.error(e+str(e.__class__))\n",
    "    else:\n",
    "        logging.info(f\"dalyba: {a} / {b} = {res}\")\n",
    "        return res"
   ]
  }
 ],
 "metadata": {
  "kernelspec": {
   "display_name": "Python 3.10.6 64-bit",
   "language": "python",
   "name": "python3"
  },
  "language_info": {
   "codemirror_mode": {
    "name": "ipython",
    "version": 3
   },
   "file_extension": ".py",
   "mimetype": "text/x-python",
   "name": "python",
   "nbconvert_exporter": "python",
   "pygments_lexer": "ipython3",
   "version": "3.10.6"
  },
  "orig_nbformat": 4,
  "vscode": {
   "interpreter": {
    "hash": "aee8b7b246df8f9039afb4144a1f6fd8d2ca17a180786b69acc140d282b71a49"
   }
  }
 },
 "nbformat": 4,
 "nbformat_minor": 2
}
